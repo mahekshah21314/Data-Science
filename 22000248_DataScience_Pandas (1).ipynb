{
 "cells": [
  {
   "cell_type": "markdown",
   "id": "da653bdc",
   "metadata": {},
   "source": [
    "NAME : MAHEK SHAH ,\n",
    " ID : 22000248 ,\n",
    " SYBCA ,\n",
    " BATCH A."
   ]
  },
  {
   "cell_type": "markdown",
   "id": "e066b66c",
   "metadata": {},
   "source": [
    "TASK 1\n",
    "1. Create 3 list viz. productId, Product Name, Product Price with 5 elements each.\n",
    "Add this element to create a DataFrame."
   ]
  },
  {
   "cell_type": "code",
   "execution_count": 3,
   "id": "cc97a8b7",
   "metadata": {},
   "outputs": [
    {
     "data": {
      "text/html": [
       "<div>\n",
       "<style scoped>\n",
       "    .dataframe tbody tr th:only-of-type {\n",
       "        vertical-align: middle;\n",
       "    }\n",
       "\n",
       "    .dataframe tbody tr th {\n",
       "        vertical-align: top;\n",
       "    }\n",
       "\n",
       "    .dataframe thead th {\n",
       "        text-align: right;\n",
       "    }\n",
       "</style>\n",
       "<table border=\"1\" class=\"dataframe\">\n",
       "  <thead>\n",
       "    <tr style=\"text-align: right;\">\n",
       "      <th></th>\n",
       "      <th>Product ID</th>\n",
       "      <th>Product Name</th>\n",
       "      <th>Product Price</th>\n",
       "    </tr>\n",
       "  </thead>\n",
       "  <tbody>\n",
       "    <tr>\n",
       "      <th>0</th>\n",
       "      <td>101</td>\n",
       "      <td>Laptop</td>\n",
       "      <td>500</td>\n",
       "    </tr>\n",
       "    <tr>\n",
       "      <th>1</th>\n",
       "      <td>102</td>\n",
       "      <td>Smartphone</td>\n",
       "      <td>700</td>\n",
       "    </tr>\n",
       "    <tr>\n",
       "      <th>2</th>\n",
       "      <td>103</td>\n",
       "      <td>Tablet</td>\n",
       "      <td>300</td>\n",
       "    </tr>\n",
       "    <tr>\n",
       "      <th>3</th>\n",
       "      <td>104</td>\n",
       "      <td>Headphones</td>\n",
       "      <td>100</td>\n",
       "    </tr>\n",
       "    <tr>\n",
       "      <th>4</th>\n",
       "      <td>105</td>\n",
       "      <td>Camera</td>\n",
       "      <td>900</td>\n",
       "    </tr>\n",
       "  </tbody>\n",
       "</table>\n",
       "</div>"
      ],
      "text/plain": [
       "   Product ID Product Name  Product Price\n",
       "0         101       Laptop            500\n",
       "1         102   Smartphone            700\n",
       "2         103       Tablet            300\n",
       "3         104   Headphones            100\n",
       "4         105       Camera            900"
      ]
     },
     "execution_count": 3,
     "metadata": {},
     "output_type": "execute_result"
    }
   ],
   "source": [
    "import pandas as pd\n",
    "productId = [101, 102, 103, 104, 105]\n",
    "productName = ['Laptop', 'Smartphone', 'Tablet', 'Headphones', 'Camera']\n",
    "productPrice = [500, 700, 300, 100, 900]\n",
    "df = pd.DataFrame({'Product ID': productId, 'Product Name': productName, 'Product Price': productPrice})\n",
    "df"
   ]
  },
  {
   "cell_type": "markdown",
   "id": "d7dc316a",
   "metadata": {},
   "source": [
    "2. Extract one by one column and display separately from above dataframe."
   ]
  },
  {
   "cell_type": "code",
   "execution_count": 4,
   "id": "1572ebed",
   "metadata": {},
   "outputs": [
    {
     "data": {
      "text/plain": [
       "0    101\n",
       "1    102\n",
       "2    103\n",
       "3    104\n",
       "4    105\n",
       "Name: Product ID, dtype: int64"
      ]
     },
     "execution_count": 4,
     "metadata": {},
     "output_type": "execute_result"
    }
   ],
   "source": [
    "df['Product ID']"
   ]
  },
  {
   "cell_type": "code",
   "execution_count": 5,
   "id": "c15edfb0",
   "metadata": {},
   "outputs": [
    {
     "data": {
      "text/plain": [
       "0        Laptop\n",
       "1    Smartphone\n",
       "2        Tablet\n",
       "3    Headphones\n",
       "4        Camera\n",
       "Name: Product Name, dtype: object"
      ]
     },
     "execution_count": 5,
     "metadata": {},
     "output_type": "execute_result"
    }
   ],
   "source": [
    "df['Product Name']"
   ]
  },
  {
   "cell_type": "code",
   "execution_count": 6,
   "id": "1665e7c9",
   "metadata": {},
   "outputs": [
    {
     "data": {
      "text/plain": [
       "0    500\n",
       "1    700\n",
       "2    300\n",
       "3    100\n",
       "4    900\n",
       "Name: Product Price, dtype: int64"
      ]
     },
     "execution_count": 6,
     "metadata": {},
     "output_type": "execute_result"
    }
   ],
   "source": [
    "df['Product Price']"
   ]
  },
  {
   "cell_type": "markdown",
   "id": "01d656e7",
   "metadata": {},
   "source": [
    "3. Display separately each and every row from an above dataframe. (use loc or iloc function)"
   ]
  },
  {
   "cell_type": "code",
   "execution_count": 7,
   "id": "05319db2",
   "metadata": {},
   "outputs": [
    {
     "data": {
      "text/plain": [
       "Product ID          101\n",
       "Product Name     Laptop\n",
       "Product Price       500\n",
       "Name: 0, dtype: object"
      ]
     },
     "execution_count": 7,
     "metadata": {},
     "output_type": "execute_result"
    }
   ],
   "source": [
    "df.loc[0]"
   ]
  },
  {
   "cell_type": "code",
   "execution_count": 8,
   "id": "bab6c2bd",
   "metadata": {},
   "outputs": [
    {
     "data": {
      "text/plain": [
       "Product ID              102\n",
       "Product Name     Smartphone\n",
       "Product Price           700\n",
       "Name: 1, dtype: object"
      ]
     },
     "execution_count": 8,
     "metadata": {},
     "output_type": "execute_result"
    }
   ],
   "source": [
    "df.loc[1]"
   ]
  },
  {
   "cell_type": "code",
   "execution_count": 9,
   "id": "37722b76",
   "metadata": {},
   "outputs": [
    {
     "data": {
      "text/plain": [
       "Product ID          103\n",
       "Product Name     Tablet\n",
       "Product Price       300\n",
       "Name: 2, dtype: object"
      ]
     },
     "execution_count": 9,
     "metadata": {},
     "output_type": "execute_result"
    }
   ],
   "source": [
    "df.loc[2]"
   ]
  },
  {
   "cell_type": "code",
   "execution_count": 10,
   "id": "4ac19687",
   "metadata": {},
   "outputs": [
    {
     "data": {
      "text/plain": [
       "Product ID              104\n",
       "Product Name     Headphones\n",
       "Product Price           100\n",
       "Name: 3, dtype: object"
      ]
     },
     "execution_count": 10,
     "metadata": {},
     "output_type": "execute_result"
    }
   ],
   "source": [
    "df.loc[3]"
   ]
  },
  {
   "cell_type": "code",
   "execution_count": 11,
   "id": "0d522328",
   "metadata": {},
   "outputs": [
    {
     "data": {
      "text/plain": [
       "Product ID          105\n",
       "Product Name     Camera\n",
       "Product Price       900\n",
       "Name: 4, dtype: object"
      ]
     },
     "execution_count": 11,
     "metadata": {},
     "output_type": "execute_result"
    }
   ],
   "source": [
    "df.loc[4]"
   ]
  },
  {
   "cell_type": "markdown",
   "id": "b39ed690",
   "metadata": {},
   "source": [
    "4. Display product name from 3 row using loc function."
   ]
  },
  {
   "cell_type": "code",
   "execution_count": 12,
   "id": "f40c79f2",
   "metadata": {},
   "outputs": [
    {
     "data": {
      "text/plain": [
       "0        Laptop\n",
       "1    Smartphone\n",
       "2        Tablet\n",
       "Name: Product Name, dtype: object"
      ]
     },
     "execution_count": 12,
     "metadata": {},
     "output_type": "execute_result"
    }
   ],
   "source": [
    "df['Product Name'].loc[[0,1,2]]"
   ]
  },
  {
   "cell_type": "markdown",
   "id": "088b710c",
   "metadata": {},
   "source": [
    "5. Display price located in 2 row using iloc function."
   ]
  },
  {
   "cell_type": "code",
   "execution_count": 13,
   "id": "f9da8433",
   "metadata": {},
   "outputs": [
    {
     "data": {
      "text/plain": [
       "700"
      ]
     },
     "execution_count": 13,
     "metadata": {},
     "output_type": "execute_result"
    }
   ],
   "source": [
    "df['Product Price'].iloc[1]"
   ]
  },
  {
   "cell_type": "markdown",
   "id": "39eed99a",
   "metadata": {},
   "source": [
    "6. Display 2nd to 4th row data excluding price"
   ]
  },
  {
   "cell_type": "code",
   "execution_count": 14,
   "id": "60e94d3e",
   "metadata": {},
   "outputs": [
    {
     "data": {
      "text/html": [
       "<div>\n",
       "<style scoped>\n",
       "    .dataframe tbody tr th:only-of-type {\n",
       "        vertical-align: middle;\n",
       "    }\n",
       "\n",
       "    .dataframe tbody tr th {\n",
       "        vertical-align: top;\n",
       "    }\n",
       "\n",
       "    .dataframe thead th {\n",
       "        text-align: right;\n",
       "    }\n",
       "</style>\n",
       "<table border=\"1\" class=\"dataframe\">\n",
       "  <thead>\n",
       "    <tr style=\"text-align: right;\">\n",
       "      <th></th>\n",
       "      <th>Product ID</th>\n",
       "      <th>Product Name</th>\n",
       "    </tr>\n",
       "  </thead>\n",
       "  <tbody>\n",
       "    <tr>\n",
       "      <th>2</th>\n",
       "      <td>103</td>\n",
       "      <td>Tablet</td>\n",
       "    </tr>\n",
       "    <tr>\n",
       "      <th>3</th>\n",
       "      <td>104</td>\n",
       "      <td>Headphones</td>\n",
       "    </tr>\n",
       "    <tr>\n",
       "      <th>4</th>\n",
       "      <td>105</td>\n",
       "      <td>Camera</td>\n",
       "    </tr>\n",
       "  </tbody>\n",
       "</table>\n",
       "</div>"
      ],
      "text/plain": [
       "   Product ID Product Name\n",
       "2         103       Tablet\n",
       "3         104   Headphones\n",
       "4         105       Camera"
      ]
     },
     "execution_count": 14,
     "metadata": {},
     "output_type": "execute_result"
    }
   ],
   "source": [
    "df[['Product ID','Product Name']].loc[2:4]"
   ]
  },
  {
   "cell_type": "markdown",
   "id": "9751c3ef",
   "metadata": {},
   "source": [
    "7. Display 1 to 3rd row price data only."
   ]
  },
  {
   "cell_type": "code",
   "execution_count": 15,
   "id": "165496cb",
   "metadata": {},
   "outputs": [
    {
     "data": {
      "text/plain": [
       "1    700\n",
       "2    300\n",
       "3    100\n",
       "Name: Product Price, dtype: int64"
      ]
     },
     "execution_count": 15,
     "metadata": {},
     "output_type": "execute_result"
    }
   ],
   "source": [
    "df['Product Price'].loc[1:3]"
   ]
  },
  {
   "cell_type": "markdown",
   "id": "87bf4fd6",
   "metadata": {},
   "source": [
    "8. Change marks in python column to 41 for students who have scored less than 40."
   ]
  },
  {
   "cell_type": "code",
   "execution_count": 47,
   "id": "085682bd",
   "metadata": {},
   "outputs": [
    {
     "data": {
      "text/html": [
       "<div>\n",
       "<style scoped>\n",
       "    .dataframe tbody tr th:only-of-type {\n",
       "        vertical-align: middle;\n",
       "    }\n",
       "\n",
       "    .dataframe tbody tr th {\n",
       "        vertical-align: top;\n",
       "    }\n",
       "\n",
       "    .dataframe thead th {\n",
       "        text-align: right;\n",
       "    }\n",
       "</style>\n",
       "<table border=\"1\" class=\"dataframe\">\n",
       "  <thead>\n",
       "    <tr style=\"text-align: right;\">\n",
       "      <th></th>\n",
       "      <th>OOAD</th>\n",
       "      <th>Data Science</th>\n",
       "      <th>Statistics</th>\n",
       "      <th>Python</th>\n",
       "      <th>Sci</th>\n",
       "      <th>Maths</th>\n",
       "      <th>c#</th>\n",
       "      <th>Java</th>\n",
       "    </tr>\n",
       "  </thead>\n",
       "  <tbody>\n",
       "    <tr>\n",
       "      <th>Mahek</th>\n",
       "      <td>77</td>\n",
       "      <td>56</td>\n",
       "      <td>34</td>\n",
       "      <td>67</td>\n",
       "      <td>41</td>\n",
       "      <td>56</td>\n",
       "      <td>78</td>\n",
       "      <td>12</td>\n",
       "    </tr>\n",
       "    <tr>\n",
       "      <th>Diya</th>\n",
       "      <td>58</td>\n",
       "      <td>40</td>\n",
       "      <td>24</td>\n",
       "      <td>38</td>\n",
       "      <td>14</td>\n",
       "      <td>66</td>\n",
       "      <td>54</td>\n",
       "      <td>44</td>\n",
       "    </tr>\n",
       "    <tr>\n",
       "      <th>Shweta</th>\n",
       "      <td>74</td>\n",
       "      <td>32</td>\n",
       "      <td>41</td>\n",
       "      <td>76</td>\n",
       "      <td>13</td>\n",
       "      <td>30</td>\n",
       "      <td>40</td>\n",
       "      <td>45</td>\n",
       "    </tr>\n",
       "    <tr>\n",
       "      <th>Vraj</th>\n",
       "      <td>4</td>\n",
       "      <td>16</td>\n",
       "      <td>66</td>\n",
       "      <td>47</td>\n",
       "      <td>1</td>\n",
       "      <td>52</td>\n",
       "      <td>78</td>\n",
       "      <td>12</td>\n",
       "    </tr>\n",
       "    <tr>\n",
       "      <th>Het</th>\n",
       "      <td>14</td>\n",
       "      <td>0</td>\n",
       "      <td>74</td>\n",
       "      <td>28</td>\n",
       "      <td>17</td>\n",
       "      <td>58</td>\n",
       "      <td>52</td>\n",
       "      <td>24</td>\n",
       "    </tr>\n",
       "  </tbody>\n",
       "</table>\n",
       "</div>"
      ],
      "text/plain": [
       "        OOAD  Data Science  Statistics  Python  Sci  Maths  c#  Java\n",
       "Mahek     77            56          34      67   41     56  78    12\n",
       "Diya      58            40          24      38   14     66  54    44\n",
       "Shweta    74            32          41      76   13     30  40    45\n",
       "Vraj       4            16          66      47    1     52  78    12\n",
       "Het       14             0          74      28   17     58  52    24"
      ]
     },
     "execution_count": 47,
     "metadata": {},
     "output_type": "execute_result"
    }
   ],
   "source": [
    "data = [[77,56,34,67,41,56,78,12],\n",
    "        [58,40,24,38,14,66,54,44],\n",
    "        [74,32,41,76,13,30,40,45],\n",
    "        [4,16,66,47,1,52,78,12],\n",
    "        [14,0,74,28,17,58,52,24]]\n",
    "df = pd.DataFrame(data , columns=[\"OOAD\",\"Data Science\",\"Statistics\",\"Python\",\"Sci\",\"Maths\",\"c#\",\"Java\"] , index = [\"Mahek\",\"Diya\",\"Shweta\",\"Vraj\",\"Het\"])\n",
    "df"
   ]
  },
  {
   "cell_type": "code",
   "execution_count": 48,
   "id": "9c67ee70",
   "metadata": {},
   "outputs": [
    {
     "data": {
      "text/html": [
       "<div>\n",
       "<style scoped>\n",
       "    .dataframe tbody tr th:only-of-type {\n",
       "        vertical-align: middle;\n",
       "    }\n",
       "\n",
       "    .dataframe tbody tr th {\n",
       "        vertical-align: top;\n",
       "    }\n",
       "\n",
       "    .dataframe thead th {\n",
       "        text-align: right;\n",
       "    }\n",
       "</style>\n",
       "<table border=\"1\" class=\"dataframe\">\n",
       "  <thead>\n",
       "    <tr style=\"text-align: right;\">\n",
       "      <th></th>\n",
       "      <th>OOAD</th>\n",
       "      <th>Data Science</th>\n",
       "      <th>Statistics</th>\n",
       "      <th>Python</th>\n",
       "      <th>Sci</th>\n",
       "      <th>Maths</th>\n",
       "      <th>c#</th>\n",
       "      <th>Java</th>\n",
       "    </tr>\n",
       "  </thead>\n",
       "  <tbody>\n",
       "    <tr>\n",
       "      <th>Mahek</th>\n",
       "      <td>77</td>\n",
       "      <td>56</td>\n",
       "      <td>34</td>\n",
       "      <td>67</td>\n",
       "      <td>41</td>\n",
       "      <td>56</td>\n",
       "      <td>78</td>\n",
       "      <td>12</td>\n",
       "    </tr>\n",
       "    <tr>\n",
       "      <th>Diya</th>\n",
       "      <td>58</td>\n",
       "      <td>40</td>\n",
       "      <td>24</td>\n",
       "      <td>38</td>\n",
       "      <td>14</td>\n",
       "      <td>66</td>\n",
       "      <td>54</td>\n",
       "      <td>44</td>\n",
       "    </tr>\n",
       "    <tr>\n",
       "      <th>Shweta</th>\n",
       "      <td>74</td>\n",
       "      <td>32</td>\n",
       "      <td>41</td>\n",
       "      <td>76</td>\n",
       "      <td>13</td>\n",
       "      <td>45</td>\n",
       "      <td>40</td>\n",
       "      <td>45</td>\n",
       "    </tr>\n",
       "    <tr>\n",
       "      <th>Vraj</th>\n",
       "      <td>4</td>\n",
       "      <td>16</td>\n",
       "      <td>66</td>\n",
       "      <td>47</td>\n",
       "      <td>1</td>\n",
       "      <td>52</td>\n",
       "      <td>78</td>\n",
       "      <td>12</td>\n",
       "    </tr>\n",
       "    <tr>\n",
       "      <th>Het</th>\n",
       "      <td>14</td>\n",
       "      <td>0</td>\n",
       "      <td>74</td>\n",
       "      <td>28</td>\n",
       "      <td>17</td>\n",
       "      <td>58</td>\n",
       "      <td>52</td>\n",
       "      <td>24</td>\n",
       "    </tr>\n",
       "  </tbody>\n",
       "</table>\n",
       "</div>"
      ],
      "text/plain": [
       "        OOAD  Data Science  Statistics  Python  Sci  Maths  c#  Java\n",
       "Mahek     77            56          34      67   41     56  78    12\n",
       "Diya      58            40          24      38   14     66  54    44\n",
       "Shweta    74            32          41      76   13     45  40    45\n",
       "Vraj       4            16          66      47    1     52  78    12\n",
       "Het       14             0          74      28   17     58  52    24"
      ]
     },
     "execution_count": 48,
     "metadata": {},
     "output_type": "execute_result"
    }
   ],
   "source": [
    "marks=df['Maths']<40\n",
    "df.loc[marks,'Maths']=45\n",
    "df"
   ]
  },
  {
   "cell_type": "markdown",
   "id": "81b9338f",
   "metadata": {},
   "source": [
    "9. Add 2 marks to all the subjects marks. If any of the marks exceeds 100 change it to 100"
   ]
  },
  {
   "cell_type": "code",
   "execution_count": 18,
   "id": "2e88ab76",
   "metadata": {},
   "outputs": [
    {
     "data": {
      "text/html": [
       "<div>\n",
       "<style scoped>\n",
       "    .dataframe tbody tr th:only-of-type {\n",
       "        vertical-align: middle;\n",
       "    }\n",
       "\n",
       "    .dataframe tbody tr th {\n",
       "        vertical-align: top;\n",
       "    }\n",
       "\n",
       "    .dataframe thead th {\n",
       "        text-align: right;\n",
       "    }\n",
       "</style>\n",
       "<table border=\"1\" class=\"dataframe\">\n",
       "  <thead>\n",
       "    <tr style=\"text-align: right;\">\n",
       "      <th></th>\n",
       "      <th>OOAD</th>\n",
       "      <th>Data Science</th>\n",
       "      <th>Statistics</th>\n",
       "      <th>Python</th>\n",
       "      <th>Sci</th>\n",
       "      <th>Maths</th>\n",
       "      <th>c#</th>\n",
       "      <th>Java</th>\n",
       "    </tr>\n",
       "  </thead>\n",
       "  <tbody>\n",
       "    <tr>\n",
       "      <th>Aashtha</th>\n",
       "      <td>79</td>\n",
       "      <td>58</td>\n",
       "      <td>36</td>\n",
       "      <td>69</td>\n",
       "      <td>43</td>\n",
       "      <td>58</td>\n",
       "      <td>80</td>\n",
       "      <td>14</td>\n",
       "    </tr>\n",
       "    <tr>\n",
       "      <th>Diya</th>\n",
       "      <td>60</td>\n",
       "      <td>42</td>\n",
       "      <td>26</td>\n",
       "      <td>40</td>\n",
       "      <td>16</td>\n",
       "      <td>68</td>\n",
       "      <td>56</td>\n",
       "      <td>46</td>\n",
       "    </tr>\n",
       "    <tr>\n",
       "      <th>Shweta</th>\n",
       "      <td>76</td>\n",
       "      <td>60</td>\n",
       "      <td>43</td>\n",
       "      <td>71</td>\n",
       "      <td>15</td>\n",
       "      <td>23</td>\n",
       "      <td>55</td>\n",
       "      <td>47</td>\n",
       "    </tr>\n",
       "    <tr>\n",
       "      <th>Vraj</th>\n",
       "      <td>6</td>\n",
       "      <td>62</td>\n",
       "      <td>39</td>\n",
       "      <td>72</td>\n",
       "      <td>3</td>\n",
       "      <td>54</td>\n",
       "      <td>100</td>\n",
       "      <td>14</td>\n",
       "    </tr>\n",
       "    <tr>\n",
       "      <th>Het</th>\n",
       "      <td>16</td>\n",
       "      <td>2</td>\n",
       "      <td>76</td>\n",
       "      <td>30</td>\n",
       "      <td>19</td>\n",
       "      <td>60</td>\n",
       "      <td>54</td>\n",
       "      <td>26</td>\n",
       "    </tr>\n",
       "  </tbody>\n",
       "</table>\n",
       "</div>"
      ],
      "text/plain": [
       "         OOAD  Data Science  Statistics  Python  Sci  Maths   c#  Java\n",
       "Aashtha    79            58          36      69   43     58   80    14\n",
       "Diya       60            42          26      40   16     68   56    46\n",
       "Shweta     76            60          43      71   15     23   55    47\n",
       "Vraj        6            62          39      72    3     54  100    14\n",
       "Het        16             2          76      30   19     60   54    26"
      ]
     },
     "execution_count": 18,
     "metadata": {},
     "output_type": "execute_result"
    }
   ],
   "source": [
    "import pandas as pd\n",
    "data = [\n",
    "    [77, 56, 34, 67, 41, 56, 78, 12],\n",
    "    [58, 40, 24, 38, 14, 66, 54, 44],\n",
    "    [74, 58, 41, 69, 13, 21, 53, 45],\n",
    "    [4, 60, 37, 70, 1, 52, 99, 12],\n",
    "    [14, 0, 74, 28, 17, 58, 52, 24]\n",
    "]\n",
    "columns = [\"OOAD\", \"Data Science\", \"Statistics\", \"Python\", \"Sci\", \"Maths\", \"c#\", \"Java\"]\n",
    "index = [\"Aashtha\", \"Diya\", \"Shweta\", \"Vraj\", \"Het\"]\n",
    "df = pd.DataFrame(data, columns=columns, index=index)\n",
    "def add_marks(row):\n",
    "    return min(100, row + 2)\n",
    "df = df.applymap(add_marks)\n",
    "df"
   ]
  },
  {
   "cell_type": "markdown",
   "id": "7b85b5cd",
   "metadata": {},
   "source": [
    "10. Display students who have scored more than 50 marks in python and more than 60 marks in data science"
   ]
  },
  {
   "cell_type": "code",
   "execution_count": 19,
   "id": "b1d85d8d",
   "metadata": {},
   "outputs": [
    {
     "data": {
      "text/html": [
       "<div>\n",
       "<style scoped>\n",
       "    .dataframe tbody tr th:only-of-type {\n",
       "        vertical-align: middle;\n",
       "    }\n",
       "\n",
       "    .dataframe tbody tr th {\n",
       "        vertical-align: top;\n",
       "    }\n",
       "\n",
       "    .dataframe thead th {\n",
       "        text-align: right;\n",
       "    }\n",
       "</style>\n",
       "<table border=\"1\" class=\"dataframe\">\n",
       "  <thead>\n",
       "    <tr style=\"text-align: right;\">\n",
       "      <th></th>\n",
       "      <th>OOAD</th>\n",
       "      <th>Data Science</th>\n",
       "      <th>Statistics</th>\n",
       "      <th>Python</th>\n",
       "      <th>Sci</th>\n",
       "      <th>Maths</th>\n",
       "      <th>c#</th>\n",
       "      <th>Java</th>\n",
       "    </tr>\n",
       "  </thead>\n",
       "  <tbody>\n",
       "    <tr>\n",
       "      <th>Aashtha</th>\n",
       "      <td>79</td>\n",
       "      <td>58</td>\n",
       "      <td>36</td>\n",
       "      <td>69</td>\n",
       "      <td>43</td>\n",
       "      <td>58</td>\n",
       "      <td>80</td>\n",
       "      <td>14</td>\n",
       "    </tr>\n",
       "    <tr>\n",
       "      <th>Shweta</th>\n",
       "      <td>76</td>\n",
       "      <td>60</td>\n",
       "      <td>43</td>\n",
       "      <td>71</td>\n",
       "      <td>15</td>\n",
       "      <td>23</td>\n",
       "      <td>55</td>\n",
       "      <td>47</td>\n",
       "    </tr>\n",
       "    <tr>\n",
       "      <th>Vraj</th>\n",
       "      <td>6</td>\n",
       "      <td>62</td>\n",
       "      <td>39</td>\n",
       "      <td>72</td>\n",
       "      <td>3</td>\n",
       "      <td>54</td>\n",
       "      <td>100</td>\n",
       "      <td>14</td>\n",
       "    </tr>\n",
       "  </tbody>\n",
       "</table>\n",
       "</div>"
      ],
      "text/plain": [
       "         OOAD  Data Science  Statistics  Python  Sci  Maths   c#  Java\n",
       "Aashtha    79            58          36      69   43     58   80    14\n",
       "Shweta     76            60          43      71   15     23   55    47\n",
       "Vraj        6            62          39      72    3     54  100    14"
      ]
     },
     "execution_count": 19,
     "metadata": {},
     "output_type": "execute_result"
    }
   ],
   "source": [
    "df[(df['Python']>50) | (df['Data Science']>60)]"
   ]
  },
  {
   "cell_type": "markdown",
   "id": "9c47228e",
   "metadata": {},
   "source": [
    "11. Display students records whose name starts with letter S"
   ]
  },
  {
   "cell_type": "code",
   "execution_count": 20,
   "id": "42a0013a",
   "metadata": {},
   "outputs": [
    {
     "data": {
      "text/html": [
       "<div>\n",
       "<style scoped>\n",
       "    .dataframe tbody tr th:only-of-type {\n",
       "        vertical-align: middle;\n",
       "    }\n",
       "\n",
       "    .dataframe tbody tr th {\n",
       "        vertical-align: top;\n",
       "    }\n",
       "\n",
       "    .dataframe thead th {\n",
       "        text-align: right;\n",
       "    }\n",
       "</style>\n",
       "<table border=\"1\" class=\"dataframe\">\n",
       "  <thead>\n",
       "    <tr style=\"text-align: right;\">\n",
       "      <th></th>\n",
       "      <th>OOAD</th>\n",
       "      <th>Data Science</th>\n",
       "      <th>Statistics</th>\n",
       "      <th>Python</th>\n",
       "      <th>Sci</th>\n",
       "      <th>Maths</th>\n",
       "      <th>c#</th>\n",
       "      <th>Java</th>\n",
       "    </tr>\n",
       "  </thead>\n",
       "  <tbody>\n",
       "    <tr>\n",
       "      <th>Shweta</th>\n",
       "      <td>76</td>\n",
       "      <td>60</td>\n",
       "      <td>43</td>\n",
       "      <td>71</td>\n",
       "      <td>15</td>\n",
       "      <td>23</td>\n",
       "      <td>55</td>\n",
       "      <td>47</td>\n",
       "    </tr>\n",
       "  </tbody>\n",
       "</table>\n",
       "</div>"
      ],
      "text/plain": [
       "        OOAD  Data Science  Statistics  Python  Sci  Maths  c#  Java\n",
       "Shweta    76            60          43      71   15     23  55    47"
      ]
     },
     "execution_count": 20,
     "metadata": {},
     "output_type": "execute_result"
    }
   ],
   "source": [
    "df[df.index.str.startswith('S')]  "
   ]
  },
  {
   "cell_type": "markdown",
   "id": "99b33f93",
   "metadata": {},
   "source": [
    "12. Display students records whose name ends with letter a."
   ]
  },
  {
   "cell_type": "code",
   "execution_count": 21,
   "id": "082c8346",
   "metadata": {},
   "outputs": [
    {
     "data": {
      "text/html": [
       "<div>\n",
       "<style scoped>\n",
       "    .dataframe tbody tr th:only-of-type {\n",
       "        vertical-align: middle;\n",
       "    }\n",
       "\n",
       "    .dataframe tbody tr th {\n",
       "        vertical-align: top;\n",
       "    }\n",
       "\n",
       "    .dataframe thead th {\n",
       "        text-align: right;\n",
       "    }\n",
       "</style>\n",
       "<table border=\"1\" class=\"dataframe\">\n",
       "  <thead>\n",
       "    <tr style=\"text-align: right;\">\n",
       "      <th></th>\n",
       "      <th>OOAD</th>\n",
       "      <th>Data Science</th>\n",
       "      <th>Statistics</th>\n",
       "      <th>Python</th>\n",
       "      <th>Sci</th>\n",
       "      <th>Maths</th>\n",
       "      <th>c#</th>\n",
       "      <th>Java</th>\n",
       "    </tr>\n",
       "  </thead>\n",
       "  <tbody>\n",
       "    <tr>\n",
       "      <th>Aashtha</th>\n",
       "      <td>79</td>\n",
       "      <td>58</td>\n",
       "      <td>36</td>\n",
       "      <td>69</td>\n",
       "      <td>43</td>\n",
       "      <td>58</td>\n",
       "      <td>80</td>\n",
       "      <td>14</td>\n",
       "    </tr>\n",
       "    <tr>\n",
       "      <th>Diya</th>\n",
       "      <td>60</td>\n",
       "      <td>42</td>\n",
       "      <td>26</td>\n",
       "      <td>40</td>\n",
       "      <td>16</td>\n",
       "      <td>68</td>\n",
       "      <td>56</td>\n",
       "      <td>46</td>\n",
       "    </tr>\n",
       "    <tr>\n",
       "      <th>Shweta</th>\n",
       "      <td>76</td>\n",
       "      <td>60</td>\n",
       "      <td>43</td>\n",
       "      <td>71</td>\n",
       "      <td>15</td>\n",
       "      <td>23</td>\n",
       "      <td>55</td>\n",
       "      <td>47</td>\n",
       "    </tr>\n",
       "  </tbody>\n",
       "</table>\n",
       "</div>"
      ],
      "text/plain": [
       "         OOAD  Data Science  Statistics  Python  Sci  Maths  c#  Java\n",
       "Aashtha    79            58          36      69   43     58  80    14\n",
       "Diya       60            42          26      40   16     68  56    46\n",
       "Shweta     76            60          43      71   15     23  55    47"
      ]
     },
     "execution_count": 21,
     "metadata": {},
     "output_type": "execute_result"
    }
   ],
   "source": [
    "df[df.index.str.endswith('a')]  "
   ]
  },
  {
   "cell_type": "markdown",
   "id": "f8812112",
   "metadata": {},
   "source": [
    "13. Calculate total and percentage for all the students."
   ]
  },
  {
   "cell_type": "code",
   "execution_count": 22,
   "id": "759ec733",
   "metadata": {},
   "outputs": [
    {
     "data": {
      "text/html": [
       "<div>\n",
       "<style scoped>\n",
       "    .dataframe tbody tr th:only-of-type {\n",
       "        vertical-align: middle;\n",
       "    }\n",
       "\n",
       "    .dataframe tbody tr th {\n",
       "        vertical-align: top;\n",
       "    }\n",
       "\n",
       "    .dataframe thead th {\n",
       "        text-align: right;\n",
       "    }\n",
       "</style>\n",
       "<table border=\"1\" class=\"dataframe\">\n",
       "  <thead>\n",
       "    <tr style=\"text-align: right;\">\n",
       "      <th></th>\n",
       "      <th>OOAD</th>\n",
       "      <th>Data Science</th>\n",
       "      <th>Statistics</th>\n",
       "      <th>Python</th>\n",
       "      <th>Sci</th>\n",
       "      <th>Maths</th>\n",
       "      <th>c#</th>\n",
       "      <th>Java</th>\n",
       "      <th>Total</th>\n",
       "      <th>Percentage</th>\n",
       "    </tr>\n",
       "  </thead>\n",
       "  <tbody>\n",
       "    <tr>\n",
       "      <th>Aashtha</th>\n",
       "      <td>77</td>\n",
       "      <td>56</td>\n",
       "      <td>34</td>\n",
       "      <td>67</td>\n",
       "      <td>41</td>\n",
       "      <td>56</td>\n",
       "      <td>78</td>\n",
       "      <td>12</td>\n",
       "      <td>421</td>\n",
       "      <td>5262.5</td>\n",
       "    </tr>\n",
       "    <tr>\n",
       "      <th>Diya</th>\n",
       "      <td>58</td>\n",
       "      <td>40</td>\n",
       "      <td>24</td>\n",
       "      <td>38</td>\n",
       "      <td>14</td>\n",
       "      <td>66</td>\n",
       "      <td>54</td>\n",
       "      <td>44</td>\n",
       "      <td>338</td>\n",
       "      <td>4225.0</td>\n",
       "    </tr>\n",
       "    <tr>\n",
       "      <th>Shweta</th>\n",
       "      <td>74</td>\n",
       "      <td>58</td>\n",
       "      <td>41</td>\n",
       "      <td>69</td>\n",
       "      <td>13</td>\n",
       "      <td>21</td>\n",
       "      <td>53</td>\n",
       "      <td>45</td>\n",
       "      <td>374</td>\n",
       "      <td>4675.0</td>\n",
       "    </tr>\n",
       "    <tr>\n",
       "      <th>Vraj</th>\n",
       "      <td>4</td>\n",
       "      <td>60</td>\n",
       "      <td>37</td>\n",
       "      <td>70</td>\n",
       "      <td>1</td>\n",
       "      <td>52</td>\n",
       "      <td>99</td>\n",
       "      <td>12</td>\n",
       "      <td>335</td>\n",
       "      <td>4187.5</td>\n",
       "    </tr>\n",
       "    <tr>\n",
       "      <th>Het</th>\n",
       "      <td>14</td>\n",
       "      <td>0</td>\n",
       "      <td>74</td>\n",
       "      <td>28</td>\n",
       "      <td>17</td>\n",
       "      <td>58</td>\n",
       "      <td>52</td>\n",
       "      <td>24</td>\n",
       "      <td>267</td>\n",
       "      <td>3337.5</td>\n",
       "    </tr>\n",
       "  </tbody>\n",
       "</table>\n",
       "</div>"
      ],
      "text/plain": [
       "         OOAD  Data Science  Statistics  Python  Sci  Maths  c#  Java  Total  \\\n",
       "Aashtha    77            56          34      67   41     56  78    12    421   \n",
       "Diya       58            40          24      38   14     66  54    44    338   \n",
       "Shweta     74            58          41      69   13     21  53    45    374   \n",
       "Vraj        4            60          37      70    1     52  99    12    335   \n",
       "Het        14             0          74      28   17     58  52    24    267   \n",
       "\n",
       "         Percentage  \n",
       "Aashtha      5262.5  \n",
       "Diya         4225.0  \n",
       "Shweta       4675.0  \n",
       "Vraj         4187.5  \n",
       "Het          3337.5  "
      ]
     },
     "execution_count": 22,
     "metadata": {},
     "output_type": "execute_result"
    }
   ],
   "source": [
    "import pandas as pd\n",
    "data = [\n",
    "    [77, 56, 34, 67, 41, 56, 78, 12],\n",
    "    [58, 40, 24, 38, 14, 66, 54, 44],\n",
    "    [74, 58, 41, 69, 13, 21, 53, 45],\n",
    "    [4, 60, 37, 70, 1, 52, 99, 12],\n",
    "    [14, 0, 74, 28, 17, 58, 52, 24]\n",
    "]\n",
    "columns = [\"OOAD\", \"Data Science\", \"Statistics\", \"Python\", \"Sci\", \"Maths\", \"c#\", \"Java\"]\n",
    "index = [\"Aashtha\", \"Diya\", \"Shweta\", \"Vraj\", \"Het\"]\n",
    "df = pd.DataFrame(data, columns=columns, index=index)\n",
    "df['Total'] = df.sum(axis=1)\n",
    "df['Percentage'] = (df['Total'] / len(columns)) * 100\n",
    "df"
   ]
  },
  {
   "cell_type": "markdown",
   "id": "494862bd",
   "metadata": {},
   "source": [
    "14. Calculate Status (PASS / FAIL) for the Students."
   ]
  },
  {
   "cell_type": "code",
   "execution_count": 23,
   "id": "f5623211",
   "metadata": {},
   "outputs": [
    {
     "data": {
      "text/plain": [
       "Aashtha    PASS\n",
       "Diya       PASS\n",
       "Shweta     PASS\n",
       "Vraj       PASS\n",
       "Het        PASS\n",
       "dtype: object"
      ]
     },
     "execution_count": 23,
     "metadata": {},
     "output_type": "execute_result"
    }
   ],
   "source": [
    " df.apply(lambda row: 'PASS' if row['Percentage'] >= 60 else 'FAIL', axis=1)"
   ]
  },
  {
   "cell_type": "markdown",
   "id": "0f5e0d6c",
   "metadata": {},
   "source": [
    "15. Calculate percentage based grade value (per>=90 then A-grade, per>=80 then B-grade, per>=70 then C-grade, per>=60 then D-grade, per>=50 then E-grade, per<50 then Fgrade)"
   ]
  },
  {
   "cell_type": "code",
   "execution_count": 24,
   "id": "44182c70",
   "metadata": {},
   "outputs": [
    {
     "data": {
      "text/html": [
       "<div>\n",
       "<style scoped>\n",
       "    .dataframe tbody tr th:only-of-type {\n",
       "        vertical-align: middle;\n",
       "    }\n",
       "\n",
       "    .dataframe tbody tr th {\n",
       "        vertical-align: top;\n",
       "    }\n",
       "\n",
       "    .dataframe thead th {\n",
       "        text-align: right;\n",
       "    }\n",
       "</style>\n",
       "<table border=\"1\" class=\"dataframe\">\n",
       "  <thead>\n",
       "    <tr style=\"text-align: right;\">\n",
       "      <th></th>\n",
       "      <th>OOAD</th>\n",
       "      <th>Data Science</th>\n",
       "      <th>Statistics</th>\n",
       "      <th>Python</th>\n",
       "      <th>Sci</th>\n",
       "      <th>Maths</th>\n",
       "      <th>c#</th>\n",
       "      <th>Java</th>\n",
       "      <th>Percentage</th>\n",
       "      <th>Grade</th>\n",
       "    </tr>\n",
       "  </thead>\n",
       "  <tbody>\n",
       "    <tr>\n",
       "      <th>Mahek</th>\n",
       "      <td>77</td>\n",
       "      <td>86</td>\n",
       "      <td>54</td>\n",
       "      <td>67</td>\n",
       "      <td>91</td>\n",
       "      <td>86</td>\n",
       "      <td>78</td>\n",
       "      <td>72</td>\n",
       "      <td>76.375</td>\n",
       "      <td>C</td>\n",
       "    </tr>\n",
       "    <tr>\n",
       "      <th>Diya</th>\n",
       "      <td>58</td>\n",
       "      <td>40</td>\n",
       "      <td>24</td>\n",
       "      <td>38</td>\n",
       "      <td>14</td>\n",
       "      <td>66</td>\n",
       "      <td>54</td>\n",
       "      <td>44</td>\n",
       "      <td>42.250</td>\n",
       "      <td>F</td>\n",
       "    </tr>\n",
       "    <tr>\n",
       "      <th>Shweta</th>\n",
       "      <td>74</td>\n",
       "      <td>58</td>\n",
       "      <td>71</td>\n",
       "      <td>89</td>\n",
       "      <td>93</td>\n",
       "      <td>71</td>\n",
       "      <td>93</td>\n",
       "      <td>75</td>\n",
       "      <td>78.000</td>\n",
       "      <td>C</td>\n",
       "    </tr>\n",
       "    <tr>\n",
       "      <th>Vraj</th>\n",
       "      <td>84</td>\n",
       "      <td>80</td>\n",
       "      <td>87</td>\n",
       "      <td>90</td>\n",
       "      <td>71</td>\n",
       "      <td>72</td>\n",
       "      <td>79</td>\n",
       "      <td>82</td>\n",
       "      <td>80.625</td>\n",
       "      <td>B</td>\n",
       "    </tr>\n",
       "    <tr>\n",
       "      <th>Het</th>\n",
       "      <td>94</td>\n",
       "      <td>90</td>\n",
       "      <td>94</td>\n",
       "      <td>98</td>\n",
       "      <td>97</td>\n",
       "      <td>98</td>\n",
       "      <td>92</td>\n",
       "      <td>94</td>\n",
       "      <td>94.625</td>\n",
       "      <td>A</td>\n",
       "    </tr>\n",
       "  </tbody>\n",
       "</table>\n",
       "</div>"
      ],
      "text/plain": [
       "        OOAD  Data Science  Statistics  Python  Sci  Maths  c#  Java  \\\n",
       "Mahek     77            86          54      67   91     86  78    72   \n",
       "Diya      58            40          24      38   14     66  54    44   \n",
       "Shweta    74            58          71      89   93     71  93    75   \n",
       "Vraj      84            80          87      90   71     72  79    82   \n",
       "Het       94            90          94      98   97     98  92    94   \n",
       "\n",
       "        Percentage Grade  \n",
       "Mahek       76.375     C  \n",
       "Diya        42.250     F  \n",
       "Shweta      78.000     C  \n",
       "Vraj        80.625     B  \n",
       "Het         94.625     A  "
      ]
     },
     "execution_count": 24,
     "metadata": {},
     "output_type": "execute_result"
    }
   ],
   "source": [
    "import pandas as pd\n",
    "data = [\n",
    "    [77, 86, 54, 67, 91, 86, 78, 72],\n",
    "    [58, 40, 24, 38, 14, 66, 54, 44],\n",
    "    [74, 58, 71, 89, 93, 71, 93, 75],\n",
    "    [84, 80, 87, 90, 71, 72, 79, 82],\n",
    "    [94, 90, 94, 98, 97, 98, 92, 94]\n",
    "]\n",
    "columns = [\"OOAD\", \"Data Science\", \"Statistics\", \"Python\", \"Sci\", \"Maths\", \"c#\", \"Java\"]\n",
    "index = [\"Mahek\", \"Diya\", \"Shweta\", \"Vraj\", \"Het\"]\n",
    "df = pd.DataFrame(data, columns=columns, index=index)\n",
    "df['Percentage'] = df.mean(axis=1)\n",
    "def get_grade(percentage):\n",
    "    if percentage >= 90:\n",
    "        return 'A'\n",
    "    elif percentage >= 80:\n",
    "        return 'B'\n",
    "    elif percentage >= 70:\n",
    "        return 'C'\n",
    "    elif percentage >= 60:\n",
    "        return 'D'\n",
    "    elif percentage >= 50:\n",
    "        return 'E'\n",
    "    else:\n",
    "        return 'F'\n",
    "df['Grade'] = df['Percentage'].apply(get_grade)\n",
    "df"
   ]
  },
  {
   "cell_type": "markdown",
   "id": "d377d7c1",
   "metadata": {},
   "source": [
    "16. Also calculate overall columns total, maximum, minimum and standard deviation for each\n",
    "numeric columns"
   ]
  },
  {
   "cell_type": "code",
   "execution_count": 25,
   "id": "f16891af",
   "metadata": {},
   "outputs": [
    {
     "data": {
      "text/html": [
       "<div>\n",
       "<style scoped>\n",
       "    .dataframe tbody tr th:only-of-type {\n",
       "        vertical-align: middle;\n",
       "    }\n",
       "\n",
       "    .dataframe tbody tr th {\n",
       "        vertical-align: top;\n",
       "    }\n",
       "\n",
       "    .dataframe thead th {\n",
       "        text-align: right;\n",
       "    }\n",
       "</style>\n",
       "<table border=\"1\" class=\"dataframe\">\n",
       "  <thead>\n",
       "    <tr style=\"text-align: right;\">\n",
       "      <th></th>\n",
       "      <th>Total</th>\n",
       "      <th>Maximum</th>\n",
       "      <th>Minimum</th>\n",
       "      <th>Standard Deviation</th>\n",
       "    </tr>\n",
       "  </thead>\n",
       "  <tbody>\n",
       "    <tr>\n",
       "      <th>OOAD</th>\n",
       "      <td>387</td>\n",
       "      <td>94</td>\n",
       "      <td>58</td>\n",
       "      <td>13.296616</td>\n",
       "    </tr>\n",
       "    <tr>\n",
       "      <th>Data Science</th>\n",
       "      <td>354</td>\n",
       "      <td>90</td>\n",
       "      <td>40</td>\n",
       "      <td>21.194339</td>\n",
       "    </tr>\n",
       "    <tr>\n",
       "      <th>Statistics</th>\n",
       "      <td>330</td>\n",
       "      <td>94</td>\n",
       "      <td>24</td>\n",
       "      <td>28.098043</td>\n",
       "    </tr>\n",
       "    <tr>\n",
       "      <th>Python</th>\n",
       "      <td>382</td>\n",
       "      <td>98</td>\n",
       "      <td>38</td>\n",
       "      <td>24.357750</td>\n",
       "    </tr>\n",
       "    <tr>\n",
       "      <th>Sci</th>\n",
       "      <td>366</td>\n",
       "      <td>97</td>\n",
       "      <td>14</td>\n",
       "      <td>34.586124</td>\n",
       "    </tr>\n",
       "    <tr>\n",
       "      <th>Maths</th>\n",
       "      <td>393</td>\n",
       "      <td>98</td>\n",
       "      <td>66</td>\n",
       "      <td>13.145341</td>\n",
       "    </tr>\n",
       "    <tr>\n",
       "      <th>c#</th>\n",
       "      <td>396</td>\n",
       "      <td>93</td>\n",
       "      <td>54</td>\n",
       "      <td>15.738488</td>\n",
       "    </tr>\n",
       "    <tr>\n",
       "      <th>Java</th>\n",
       "      <td>367</td>\n",
       "      <td>94</td>\n",
       "      <td>44</td>\n",
       "      <td>18.487834</td>\n",
       "    </tr>\n",
       "  </tbody>\n",
       "</table>\n",
       "</div>"
      ],
      "text/plain": [
       "              Total  Maximum  Minimum  Standard Deviation\n",
       "OOAD            387       94       58           13.296616\n",
       "Data Science    354       90       40           21.194339\n",
       "Statistics      330       94       24           28.098043\n",
       "Python          382       98       38           24.357750\n",
       "Sci             366       97       14           34.586124\n",
       "Maths           393       98       66           13.145341\n",
       "c#              396       93       54           15.738488\n",
       "Java            367       94       44           18.487834"
      ]
     },
     "execution_count": 25,
     "metadata": {},
     "output_type": "execute_result"
    }
   ],
   "source": [
    "df = pd.DataFrame(data, columns=columns, index=index)\n",
    "results = pd.DataFrame({\n",
    "    'Total': df.sum(),\n",
    "    'Maximum': df.max(),\n",
    "    'Minimum': df.min(),\n",
    "    'Standard Deviation': df.std()\n",
    "})\n",
    "results"
   ]
  },
  {
   "cell_type": "markdown",
   "id": "6faed74e",
   "metadata": {},
   "source": [
    "17. Display meta-data for each column for the above dataframe."
   ]
  },
  {
   "cell_type": "code",
   "execution_count": 26,
   "id": "615be174",
   "metadata": {},
   "outputs": [
    {
     "name": "stdout",
     "output_type": "stream",
     "text": [
      "<class 'pandas.core.frame.DataFrame'>\n",
      "Index: 5 entries, Mahek to Het\n",
      "Data columns (total 8 columns):\n",
      " #   Column        Non-Null Count  Dtype\n",
      "---  ------        --------------  -----\n",
      " 0   OOAD          5 non-null      int64\n",
      " 1   Data Science  5 non-null      int64\n",
      " 2   Statistics    5 non-null      int64\n",
      " 3   Python        5 non-null      int64\n",
      " 4   Sci           5 non-null      int64\n",
      " 5   Maths         5 non-null      int64\n",
      " 6   c#            5 non-null      int64\n",
      " 7   Java          5 non-null      int64\n",
      "dtypes: int64(8)\n",
      "memory usage: 360.0+ bytes\n"
     ]
    }
   ],
   "source": [
    "df.info()"
   ]
  },
  {
   "cell_type": "markdown",
   "id": "335fde06",
   "metadata": {},
   "source": [
    "18.Convert the above DataFrame to list within a dictionary."
   ]
  },
  {
   "cell_type": "code",
   "execution_count": 27,
   "id": "46f47176",
   "metadata": {},
   "outputs": [
    {
     "data": {
      "text/plain": [
       "{'OOAD': [77, 58, 74, 84, 94],\n",
       " 'Data Science': [86, 40, 58, 80, 90],\n",
       " 'Statistics': [54, 24, 71, 87, 94],\n",
       " 'Python': [67, 38, 89, 90, 98],\n",
       " 'Sci': [91, 14, 93, 71, 97],\n",
       " 'Maths': [86, 66, 71, 72, 98],\n",
       " 'c#': [78, 54, 93, 79, 92],\n",
       " 'Java': [72, 44, 75, 82, 94]}"
      ]
     },
     "execution_count": 27,
     "metadata": {},
     "output_type": "execute_result"
    }
   ],
   "source": [
    "dict_list = df.to_dict(orient='list')\n",
    "dict_list"
   ]
  },
  {
   "cell_type": "markdown",
   "id": "17e6d71b",
   "metadata": {},
   "source": [
    "19. Convert this dictionary again to a separate dataframe by adding 500 to each element in product price column."
   ]
  },
  {
   "cell_type": "code",
   "execution_count": 28,
   "id": "5b174037",
   "metadata": {},
   "outputs": [
    {
     "data": {
      "text/html": [
       "<div>\n",
       "<style scoped>\n",
       "    .dataframe tbody tr th:only-of-type {\n",
       "        vertical-align: middle;\n",
       "    }\n",
       "\n",
       "    .dataframe tbody tr th {\n",
       "        vertical-align: top;\n",
       "    }\n",
       "\n",
       "    .dataframe thead th {\n",
       "        text-align: right;\n",
       "    }\n",
       "</style>\n",
       "<table border=\"1\" class=\"dataframe\">\n",
       "  <thead>\n",
       "    <tr style=\"text-align: right;\">\n",
       "      <th></th>\n",
       "      <th>Product ID</th>\n",
       "      <th>Product Name</th>\n",
       "      <th>Product Price</th>\n",
       "    </tr>\n",
       "  </thead>\n",
       "  <tbody>\n",
       "    <tr>\n",
       "      <th>0</th>\n",
       "      <td>101</td>\n",
       "      <td>Laptop</td>\n",
       "      <td>1000</td>\n",
       "    </tr>\n",
       "    <tr>\n",
       "      <th>1</th>\n",
       "      <td>102</td>\n",
       "      <td>Smartphone</td>\n",
       "      <td>1200</td>\n",
       "    </tr>\n",
       "    <tr>\n",
       "      <th>2</th>\n",
       "      <td>103</td>\n",
       "      <td>Tablet</td>\n",
       "      <td>800</td>\n",
       "    </tr>\n",
       "    <tr>\n",
       "      <th>3</th>\n",
       "      <td>104</td>\n",
       "      <td>Headphones</td>\n",
       "      <td>600</td>\n",
       "    </tr>\n",
       "    <tr>\n",
       "      <th>4</th>\n",
       "      <td>105</td>\n",
       "      <td>Camera</td>\n",
       "      <td>1400</td>\n",
       "    </tr>\n",
       "  </tbody>\n",
       "</table>\n",
       "</div>"
      ],
      "text/plain": [
       "   Product ID Product Name  Product Price\n",
       "0         101       Laptop           1000\n",
       "1         102   Smartphone           1200\n",
       "2         103       Tablet            800\n",
       "3         104   Headphones            600\n",
       "4         105       Camera           1400"
      ]
     },
     "execution_count": 28,
     "metadata": {},
     "output_type": "execute_result"
    }
   ],
   "source": [
    "import pandas as pd\n",
    "\n",
    "productId = [101, 102, 103, 104, 105]\n",
    "productName = ['Laptop', 'Smartphone', 'Tablet', 'Headphones', 'Camera']\n",
    "productPrice = [500, 700, 300, 100, 900]\n",
    "\n",
    "df = pd.DataFrame({'Product ID': productId, 'Product Name': productName, 'Product Price': productPrice})\n",
    "df['Product Price'] += 500\n",
    "df"
   ]
  },
  {
   "cell_type": "markdown",
   "id": "85cc6bfe",
   "metadata": {},
   "source": [
    "Task 2\n",
    "Using the SF Salaries Dataset from Kaggle! ,complete the tasks outlined in bold below\n",
    "1. Import pandas as pd"
   ]
  },
  {
   "cell_type": "code",
   "execution_count": 2,
   "id": "7cac8ee2",
   "metadata": {},
   "outputs": [],
   "source": [
    "import pandas as pd"
   ]
  },
  {
   "cell_type": "markdown",
   "id": "58bd9227",
   "metadata": {},
   "source": [
    "2. Read Salaries.csv as a dataframe called sal."
   ]
  },
  {
   "cell_type": "code",
   "execution_count": 3,
   "id": "bdd12307",
   "metadata": {},
   "outputs": [
    {
     "name": "stderr",
     "output_type": "stream",
     "text": [
      "C:\\Users\\HP\\AppData\\Local\\Temp\\ipykernel_10844\\1798377461.py:1: DtypeWarning: Columns (3,4,5,6,12) have mixed types. Specify dtype option on import or set low_memory=False.\n",
      "  sal = pd.read_csv('Salaries.csv')\n"
     ]
    },
    {
     "data": {
      "text/html": [
       "<div>\n",
       "<style scoped>\n",
       "    .dataframe tbody tr th:only-of-type {\n",
       "        vertical-align: middle;\n",
       "    }\n",
       "\n",
       "    .dataframe tbody tr th {\n",
       "        vertical-align: top;\n",
       "    }\n",
       "\n",
       "    .dataframe thead th {\n",
       "        text-align: right;\n",
       "    }\n",
       "</style>\n",
       "<table border=\"1\" class=\"dataframe\">\n",
       "  <thead>\n",
       "    <tr style=\"text-align: right;\">\n",
       "      <th></th>\n",
       "      <th>Id</th>\n",
       "      <th>EmployeeName</th>\n",
       "      <th>JobTitle</th>\n",
       "      <th>BasePay</th>\n",
       "      <th>OvertimePay</th>\n",
       "      <th>OtherPay</th>\n",
       "      <th>Benefits</th>\n",
       "      <th>TotalPay</th>\n",
       "      <th>TotalPayBenefits</th>\n",
       "      <th>Year</th>\n",
       "      <th>Notes</th>\n",
       "      <th>Agency</th>\n",
       "      <th>Status</th>\n",
       "    </tr>\n",
       "  </thead>\n",
       "  <tbody>\n",
       "    <tr>\n",
       "      <th>0</th>\n",
       "      <td>1</td>\n",
       "      <td>NATHANIEL FORD</td>\n",
       "      <td>GENERAL MANAGER-METROPOLITAN TRANSIT AUTHORITY</td>\n",
       "      <td>167411.18</td>\n",
       "      <td>0.0</td>\n",
       "      <td>400184.25</td>\n",
       "      <td>NaN</td>\n",
       "      <td>567595.43</td>\n",
       "      <td>567595.43</td>\n",
       "      <td>2011</td>\n",
       "      <td>NaN</td>\n",
       "      <td>San Francisco</td>\n",
       "      <td>NaN</td>\n",
       "    </tr>\n",
       "    <tr>\n",
       "      <th>1</th>\n",
       "      <td>2</td>\n",
       "      <td>GARY JIMENEZ</td>\n",
       "      <td>CAPTAIN III (POLICE DEPARTMENT)</td>\n",
       "      <td>155966.02</td>\n",
       "      <td>245131.88</td>\n",
       "      <td>137811.38</td>\n",
       "      <td>NaN</td>\n",
       "      <td>538909.28</td>\n",
       "      <td>538909.28</td>\n",
       "      <td>2011</td>\n",
       "      <td>NaN</td>\n",
       "      <td>San Francisco</td>\n",
       "      <td>NaN</td>\n",
       "    </tr>\n",
       "    <tr>\n",
       "      <th>2</th>\n",
       "      <td>3</td>\n",
       "      <td>ALBERT PARDINI</td>\n",
       "      <td>CAPTAIN III (POLICE DEPARTMENT)</td>\n",
       "      <td>212739.13</td>\n",
       "      <td>106088.18</td>\n",
       "      <td>16452.6</td>\n",
       "      <td>NaN</td>\n",
       "      <td>335279.91</td>\n",
       "      <td>335279.91</td>\n",
       "      <td>2011</td>\n",
       "      <td>NaN</td>\n",
       "      <td>San Francisco</td>\n",
       "      <td>NaN</td>\n",
       "    </tr>\n",
       "    <tr>\n",
       "      <th>3</th>\n",
       "      <td>4</td>\n",
       "      <td>CHRISTOPHER CHONG</td>\n",
       "      <td>WIRE ROPE CABLE MAINTENANCE MECHANIC</td>\n",
       "      <td>77916.0</td>\n",
       "      <td>56120.71</td>\n",
       "      <td>198306.9</td>\n",
       "      <td>NaN</td>\n",
       "      <td>332343.61</td>\n",
       "      <td>332343.61</td>\n",
       "      <td>2011</td>\n",
       "      <td>NaN</td>\n",
       "      <td>San Francisco</td>\n",
       "      <td>NaN</td>\n",
       "    </tr>\n",
       "    <tr>\n",
       "      <th>4</th>\n",
       "      <td>5</td>\n",
       "      <td>PATRICK GARDNER</td>\n",
       "      <td>DEPUTY CHIEF OF DEPARTMENT,(FIRE DEPARTMENT)</td>\n",
       "      <td>134401.6</td>\n",
       "      <td>9737.0</td>\n",
       "      <td>182234.59</td>\n",
       "      <td>NaN</td>\n",
       "      <td>326373.19</td>\n",
       "      <td>326373.19</td>\n",
       "      <td>2011</td>\n",
       "      <td>NaN</td>\n",
       "      <td>San Francisco</td>\n",
       "      <td>NaN</td>\n",
       "    </tr>\n",
       "    <tr>\n",
       "      <th>...</th>\n",
       "      <td>...</td>\n",
       "      <td>...</td>\n",
       "      <td>...</td>\n",
       "      <td>...</td>\n",
       "      <td>...</td>\n",
       "      <td>...</td>\n",
       "      <td>...</td>\n",
       "      <td>...</td>\n",
       "      <td>...</td>\n",
       "      <td>...</td>\n",
       "      <td>...</td>\n",
       "      <td>...</td>\n",
       "      <td>...</td>\n",
       "    </tr>\n",
       "    <tr>\n",
       "      <th>148649</th>\n",
       "      <td>148650</td>\n",
       "      <td>Roy I Tillery</td>\n",
       "      <td>Custodian</td>\n",
       "      <td>0.00</td>\n",
       "      <td>0.00</td>\n",
       "      <td>0.00</td>\n",
       "      <td>0.00</td>\n",
       "      <td>0.00</td>\n",
       "      <td>0.00</td>\n",
       "      <td>2014</td>\n",
       "      <td>NaN</td>\n",
       "      <td>San Francisco</td>\n",
       "      <td>PT</td>\n",
       "    </tr>\n",
       "    <tr>\n",
       "      <th>148650</th>\n",
       "      <td>148651</td>\n",
       "      <td>Not provided</td>\n",
       "      <td>Not provided</td>\n",
       "      <td>Not Provided</td>\n",
       "      <td>Not Provided</td>\n",
       "      <td>Not Provided</td>\n",
       "      <td>Not Provided</td>\n",
       "      <td>0.00</td>\n",
       "      <td>0.00</td>\n",
       "      <td>2014</td>\n",
       "      <td>NaN</td>\n",
       "      <td>San Francisco</td>\n",
       "      <td>NaN</td>\n",
       "    </tr>\n",
       "    <tr>\n",
       "      <th>148651</th>\n",
       "      <td>148652</td>\n",
       "      <td>Not provided</td>\n",
       "      <td>Not provided</td>\n",
       "      <td>Not Provided</td>\n",
       "      <td>Not Provided</td>\n",
       "      <td>Not Provided</td>\n",
       "      <td>Not Provided</td>\n",
       "      <td>0.00</td>\n",
       "      <td>0.00</td>\n",
       "      <td>2014</td>\n",
       "      <td>NaN</td>\n",
       "      <td>San Francisco</td>\n",
       "      <td>NaN</td>\n",
       "    </tr>\n",
       "    <tr>\n",
       "      <th>148652</th>\n",
       "      <td>148653</td>\n",
       "      <td>Not provided</td>\n",
       "      <td>Not provided</td>\n",
       "      <td>Not Provided</td>\n",
       "      <td>Not Provided</td>\n",
       "      <td>Not Provided</td>\n",
       "      <td>Not Provided</td>\n",
       "      <td>0.00</td>\n",
       "      <td>0.00</td>\n",
       "      <td>2014</td>\n",
       "      <td>NaN</td>\n",
       "      <td>San Francisco</td>\n",
       "      <td>NaN</td>\n",
       "    </tr>\n",
       "    <tr>\n",
       "      <th>148653</th>\n",
       "      <td>148654</td>\n",
       "      <td>Joe Lopez</td>\n",
       "      <td>Counselor, Log Cabin Ranch</td>\n",
       "      <td>0.00</td>\n",
       "      <td>0.00</td>\n",
       "      <td>-618.13</td>\n",
       "      <td>0.00</td>\n",
       "      <td>-618.13</td>\n",
       "      <td>-618.13</td>\n",
       "      <td>2014</td>\n",
       "      <td>NaN</td>\n",
       "      <td>San Francisco</td>\n",
       "      <td>PT</td>\n",
       "    </tr>\n",
       "  </tbody>\n",
       "</table>\n",
       "<p>148654 rows × 13 columns</p>\n",
       "</div>"
      ],
      "text/plain": [
       "            Id       EmployeeName  \\\n",
       "0            1     NATHANIEL FORD   \n",
       "1            2       GARY JIMENEZ   \n",
       "2            3     ALBERT PARDINI   \n",
       "3            4  CHRISTOPHER CHONG   \n",
       "4            5    PATRICK GARDNER   \n",
       "...        ...                ...   \n",
       "148649  148650      Roy I Tillery   \n",
       "148650  148651       Not provided   \n",
       "148651  148652       Not provided   \n",
       "148652  148653       Not provided   \n",
       "148653  148654          Joe Lopez   \n",
       "\n",
       "                                              JobTitle       BasePay  \\\n",
       "0       GENERAL MANAGER-METROPOLITAN TRANSIT AUTHORITY     167411.18   \n",
       "1                      CAPTAIN III (POLICE DEPARTMENT)     155966.02   \n",
       "2                      CAPTAIN III (POLICE DEPARTMENT)     212739.13   \n",
       "3                 WIRE ROPE CABLE MAINTENANCE MECHANIC       77916.0   \n",
       "4         DEPUTY CHIEF OF DEPARTMENT,(FIRE DEPARTMENT)      134401.6   \n",
       "...                                                ...           ...   \n",
       "148649                                       Custodian          0.00   \n",
       "148650                                    Not provided  Not Provided   \n",
       "148651                                    Not provided  Not Provided   \n",
       "148652                                    Not provided  Not Provided   \n",
       "148653                      Counselor, Log Cabin Ranch          0.00   \n",
       "\n",
       "         OvertimePay      OtherPay      Benefits   TotalPay  TotalPayBenefits  \\\n",
       "0                0.0     400184.25           NaN  567595.43         567595.43   \n",
       "1          245131.88     137811.38           NaN  538909.28         538909.28   \n",
       "2          106088.18       16452.6           NaN  335279.91         335279.91   \n",
       "3           56120.71      198306.9           NaN  332343.61         332343.61   \n",
       "4             9737.0     182234.59           NaN  326373.19         326373.19   \n",
       "...              ...           ...           ...        ...               ...   \n",
       "148649          0.00          0.00          0.00       0.00              0.00   \n",
       "148650  Not Provided  Not Provided  Not Provided       0.00              0.00   \n",
       "148651  Not Provided  Not Provided  Not Provided       0.00              0.00   \n",
       "148652  Not Provided  Not Provided  Not Provided       0.00              0.00   \n",
       "148653          0.00       -618.13          0.00    -618.13           -618.13   \n",
       "\n",
       "        Year  Notes         Agency Status  \n",
       "0       2011    NaN  San Francisco    NaN  \n",
       "1       2011    NaN  San Francisco    NaN  \n",
       "2       2011    NaN  San Francisco    NaN  \n",
       "3       2011    NaN  San Francisco    NaN  \n",
       "4       2011    NaN  San Francisco    NaN  \n",
       "...      ...    ...            ...    ...  \n",
       "148649  2014    NaN  San Francisco     PT  \n",
       "148650  2014    NaN  San Francisco    NaN  \n",
       "148651  2014    NaN  San Francisco    NaN  \n",
       "148652  2014    NaN  San Francisco    NaN  \n",
       "148653  2014    NaN  San Francisco     PT  \n",
       "\n",
       "[148654 rows x 13 columns]"
      ]
     },
     "execution_count": 3,
     "metadata": {},
     "output_type": "execute_result"
    }
   ],
   "source": [
    "sal = pd.read_csv('Salaries.csv')\n",
    "sal"
   ]
  },
  {
   "cell_type": "markdown",
   "id": "a14c972c",
   "metadata": {},
   "source": [
    "3. Check the head of the DataFrame."
   ]
  },
  {
   "cell_type": "code",
   "execution_count": 4,
   "id": "bd16313a",
   "metadata": {},
   "outputs": [
    {
     "data": {
      "text/html": [
       "<div>\n",
       "<style scoped>\n",
       "    .dataframe tbody tr th:only-of-type {\n",
       "        vertical-align: middle;\n",
       "    }\n",
       "\n",
       "    .dataframe tbody tr th {\n",
       "        vertical-align: top;\n",
       "    }\n",
       "\n",
       "    .dataframe thead th {\n",
       "        text-align: right;\n",
       "    }\n",
       "</style>\n",
       "<table border=\"1\" class=\"dataframe\">\n",
       "  <thead>\n",
       "    <tr style=\"text-align: right;\">\n",
       "      <th></th>\n",
       "      <th>Id</th>\n",
       "      <th>EmployeeName</th>\n",
       "      <th>JobTitle</th>\n",
       "      <th>BasePay</th>\n",
       "      <th>OvertimePay</th>\n",
       "      <th>OtherPay</th>\n",
       "      <th>Benefits</th>\n",
       "      <th>TotalPay</th>\n",
       "      <th>TotalPayBenefits</th>\n",
       "      <th>Year</th>\n",
       "      <th>Notes</th>\n",
       "      <th>Agency</th>\n",
       "      <th>Status</th>\n",
       "    </tr>\n",
       "  </thead>\n",
       "  <tbody>\n",
       "    <tr>\n",
       "      <th>0</th>\n",
       "      <td>1</td>\n",
       "      <td>NATHANIEL FORD</td>\n",
       "      <td>GENERAL MANAGER-METROPOLITAN TRANSIT AUTHORITY</td>\n",
       "      <td>167411.18</td>\n",
       "      <td>0.0</td>\n",
       "      <td>400184.25</td>\n",
       "      <td>NaN</td>\n",
       "      <td>567595.43</td>\n",
       "      <td>567595.43</td>\n",
       "      <td>2011</td>\n",
       "      <td>NaN</td>\n",
       "      <td>San Francisco</td>\n",
       "      <td>NaN</td>\n",
       "    </tr>\n",
       "    <tr>\n",
       "      <th>1</th>\n",
       "      <td>2</td>\n",
       "      <td>GARY JIMENEZ</td>\n",
       "      <td>CAPTAIN III (POLICE DEPARTMENT)</td>\n",
       "      <td>155966.02</td>\n",
       "      <td>245131.88</td>\n",
       "      <td>137811.38</td>\n",
       "      <td>NaN</td>\n",
       "      <td>538909.28</td>\n",
       "      <td>538909.28</td>\n",
       "      <td>2011</td>\n",
       "      <td>NaN</td>\n",
       "      <td>San Francisco</td>\n",
       "      <td>NaN</td>\n",
       "    </tr>\n",
       "    <tr>\n",
       "      <th>2</th>\n",
       "      <td>3</td>\n",
       "      <td>ALBERT PARDINI</td>\n",
       "      <td>CAPTAIN III (POLICE DEPARTMENT)</td>\n",
       "      <td>212739.13</td>\n",
       "      <td>106088.18</td>\n",
       "      <td>16452.6</td>\n",
       "      <td>NaN</td>\n",
       "      <td>335279.91</td>\n",
       "      <td>335279.91</td>\n",
       "      <td>2011</td>\n",
       "      <td>NaN</td>\n",
       "      <td>San Francisco</td>\n",
       "      <td>NaN</td>\n",
       "    </tr>\n",
       "    <tr>\n",
       "      <th>3</th>\n",
       "      <td>4</td>\n",
       "      <td>CHRISTOPHER CHONG</td>\n",
       "      <td>WIRE ROPE CABLE MAINTENANCE MECHANIC</td>\n",
       "      <td>77916.0</td>\n",
       "      <td>56120.71</td>\n",
       "      <td>198306.9</td>\n",
       "      <td>NaN</td>\n",
       "      <td>332343.61</td>\n",
       "      <td>332343.61</td>\n",
       "      <td>2011</td>\n",
       "      <td>NaN</td>\n",
       "      <td>San Francisco</td>\n",
       "      <td>NaN</td>\n",
       "    </tr>\n",
       "    <tr>\n",
       "      <th>4</th>\n",
       "      <td>5</td>\n",
       "      <td>PATRICK GARDNER</td>\n",
       "      <td>DEPUTY CHIEF OF DEPARTMENT,(FIRE DEPARTMENT)</td>\n",
       "      <td>134401.6</td>\n",
       "      <td>9737.0</td>\n",
       "      <td>182234.59</td>\n",
       "      <td>NaN</td>\n",
       "      <td>326373.19</td>\n",
       "      <td>326373.19</td>\n",
       "      <td>2011</td>\n",
       "      <td>NaN</td>\n",
       "      <td>San Francisco</td>\n",
       "      <td>NaN</td>\n",
       "    </tr>\n",
       "  </tbody>\n",
       "</table>\n",
       "</div>"
      ],
      "text/plain": [
       "   Id       EmployeeName                                        JobTitle  \\\n",
       "0   1     NATHANIEL FORD  GENERAL MANAGER-METROPOLITAN TRANSIT AUTHORITY   \n",
       "1   2       GARY JIMENEZ                 CAPTAIN III (POLICE DEPARTMENT)   \n",
       "2   3     ALBERT PARDINI                 CAPTAIN III (POLICE DEPARTMENT)   \n",
       "3   4  CHRISTOPHER CHONG            WIRE ROPE CABLE MAINTENANCE MECHANIC   \n",
       "4   5    PATRICK GARDNER    DEPUTY CHIEF OF DEPARTMENT,(FIRE DEPARTMENT)   \n",
       "\n",
       "     BasePay OvertimePay   OtherPay Benefits   TotalPay  TotalPayBenefits  \\\n",
       "0  167411.18         0.0  400184.25      NaN  567595.43         567595.43   \n",
       "1  155966.02   245131.88  137811.38      NaN  538909.28         538909.28   \n",
       "2  212739.13   106088.18    16452.6      NaN  335279.91         335279.91   \n",
       "3    77916.0    56120.71   198306.9      NaN  332343.61         332343.61   \n",
       "4   134401.6      9737.0  182234.59      NaN  326373.19         326373.19   \n",
       "\n",
       "   Year  Notes         Agency Status  \n",
       "0  2011    NaN  San Francisco    NaN  \n",
       "1  2011    NaN  San Francisco    NaN  \n",
       "2  2011    NaN  San Francisco    NaN  \n",
       "3  2011    NaN  San Francisco    NaN  \n",
       "4  2011    NaN  San Francisco    NaN  "
      ]
     },
     "execution_count": 4,
     "metadata": {},
     "output_type": "execute_result"
    }
   ],
   "source": [
    "sal.head()"
   ]
  },
  {
   "cell_type": "markdown",
   "id": "8d98fefe",
   "metadata": {},
   "source": [
    "4. Use the .info() method to find out how many entries there are."
   ]
  },
  {
   "cell_type": "code",
   "execution_count": 5,
   "id": "a3bff6e1",
   "metadata": {},
   "outputs": [
    {
     "name": "stdout",
     "output_type": "stream",
     "text": [
      "<class 'pandas.core.frame.DataFrame'>\n",
      "RangeIndex: 148654 entries, 0 to 148653\n",
      "Data columns (total 13 columns):\n",
      " #   Column            Non-Null Count   Dtype  \n",
      "---  ------            --------------   -----  \n",
      " 0   Id                148654 non-null  int64  \n",
      " 1   EmployeeName      148654 non-null  object \n",
      " 2   JobTitle          148654 non-null  object \n",
      " 3   BasePay           148045 non-null  float64\n",
      " 4   OvertimePay       148650 non-null  float64\n",
      " 5   OtherPay          148650 non-null  float64\n",
      " 6   Benefits          112491 non-null  float64\n",
      " 7   TotalPay          148654 non-null  float64\n",
      " 8   TotalPayBenefits  148654 non-null  float64\n",
      " 9   Year              148654 non-null  int64  \n",
      " 10  Notes             0 non-null       float64\n",
      " 11  Agency            148654 non-null  object \n",
      " 12  Status            38119 non-null   object \n",
      "dtypes: float64(7), int64(2), object(4)\n",
      "memory usage: 14.7+ MB\n"
     ]
    }
   ],
   "source": [
    "sal['BasePay'] = pd.to_numeric(sal['BasePay'], errors='coerce')\n",
    "sal['OvertimePay'] = pd.to_numeric(sal['OvertimePay'], errors='coerce')\n",
    "sal['OtherPay'] = pd.to_numeric(sal['OtherPay'], errors='coerce')\n",
    "sal['Benefits'] = pd.to_numeric(sal['Benefits'], errors='coerce')\n",
    "sal.info()"
   ]
  },
  {
   "cell_type": "markdown",
   "id": "f29424ed",
   "metadata": {},
   "source": [
    "5. What is the average BasePay ?"
   ]
  },
  {
   "cell_type": "code",
   "execution_count": 6,
   "id": "3e084f58",
   "metadata": {},
   "outputs": [
    {
     "data": {
      "text/plain": [
       "66325.44884050643"
      ]
     },
     "execution_count": 6,
     "metadata": {},
     "output_type": "execute_result"
    }
   ],
   "source": [
    "average_basepay = sal['BasePay'].mean()\n",
    "average_basepay"
   ]
  },
  {
   "cell_type": "markdown",
   "id": "14de5e0c",
   "metadata": {},
   "source": [
    "6. What is the highest amount of OvertimePay in the dataset ?"
   ]
  },
  {
   "cell_type": "code",
   "execution_count": 7,
   "id": "27ecd65d",
   "metadata": {},
   "outputs": [
    {
     "data": {
      "text/plain": [
       "245131.88"
      ]
     },
     "execution_count": 7,
     "metadata": {},
     "output_type": "execute_result"
    }
   ],
   "source": [
    "highest_overtimepay = sal['OvertimePay'].max()\n",
    "highest_overtimepay"
   ]
  },
  {
   "cell_type": "markdown",
   "id": "37e86c5e",
   "metadata": {},
   "source": [
    "7. What is the job title of JOSEPH DRISCOLL ? Note: Use all caps, otherwise you may get an answer that doesn't match up (there is also a lowercase Joseph Driscoll)."
   ]
  },
  {
   "cell_type": "code",
   "execution_count": 8,
   "id": "2d35f9fe",
   "metadata": {},
   "outputs": [
    {
     "data": {
      "text/plain": [
       "'CAPTAIN, FIRE SUPPRESSION'"
      ]
     },
     "execution_count": 8,
     "metadata": {},
     "output_type": "execute_result"
    }
   ],
   "source": [
    "joseph_driscoll_jobtitle = sal[sal['EmployeeName'] == 'JOSEPH DRISCOLL']['JobTitle'].iloc[0]\n",
    "joseph_driscoll_jobtitle"
   ]
  },
  {
   "cell_type": "markdown",
   "id": "77130252",
   "metadata": {},
   "source": [
    "8. How much does JOSEPH DRISCOLL make (including benefits)?"
   ]
  },
  {
   "cell_type": "code",
   "execution_count": 9,
   "id": "50c6a3ef",
   "metadata": {},
   "outputs": [
    {
     "data": {
      "text/plain": [
       "270324.91"
      ]
     },
     "execution_count": 9,
     "metadata": {},
     "output_type": "execute_result"
    }
   ],
   "source": [
    "joseph_driscoll_salary = sal[sal['EmployeeName'] == 'JOSEPH DRISCOLL']['TotalPayBenefits'].iloc[0]\n",
    "joseph_driscoll_salary"
   ]
  },
  {
   "cell_type": "markdown",
   "id": "c1777090",
   "metadata": {},
   "source": [
    "9. What is the name of highest paid person (including benefits)?"
   ]
  },
  {
   "cell_type": "code",
   "execution_count": 10,
   "id": "752d90b0",
   "metadata": {},
   "outputs": [
    {
     "data": {
      "text/plain": [
       "'NATHANIEL FORD'"
      ]
     },
     "execution_count": 10,
     "metadata": {},
     "output_type": "execute_result"
    }
   ],
   "source": [
    "highest_paid_person = sal.loc[sal['TotalPayBenefits'].idxmax()]['EmployeeName']\n",
    "highest_paid_person"
   ]
  },
  {
   "cell_type": "markdown",
   "id": "c5714410",
   "metadata": {},
   "source": [
    "10. What is the name of lowest paid person (including benefits)? Do you notice something strange about how much he or she is paid?"
   ]
  },
  {
   "cell_type": "code",
   "execution_count": 11,
   "id": "b2176cb6",
   "metadata": {},
   "outputs": [
    {
     "data": {
      "text/plain": [
       "-618.13"
      ]
     },
     "execution_count": 11,
     "metadata": {},
     "output_type": "execute_result"
    }
   ],
   "source": [
    "lowest_paid_person = sal.loc[sal['TotalPayBenefits'].idxmin()]\n",
    "lowest_paid_person['EmployeeName']\n",
    "lowest_paid_person['TotalPayBenefits']"
   ]
  },
  {
   "cell_type": "markdown",
   "id": "f6ab7572",
   "metadata": {},
   "source": [
    "The salary seems to be negative, which is strange."
   ]
  },
  {
   "cell_type": "markdown",
   "id": "6a8e6a45",
   "metadata": {},
   "source": [
    "11. What was the average (mean) BasePay of all employees per year? (2011-2014) ?"
   ]
  },
  {
   "cell_type": "code",
   "execution_count": 12,
   "id": "8239de1b",
   "metadata": {},
   "outputs": [
    {
     "data": {
      "text/plain": [
       "Year\n",
       "2011    63595.956517\n",
       "2012    65436.406857\n",
       "2013    69630.030216\n",
       "2014    66564.421924\n",
       "Name: BasePay, dtype: float64"
      ]
     },
     "execution_count": 12,
     "metadata": {},
     "output_type": "execute_result"
    }
   ],
   "source": [
    "average_basepay_per_year = sal.groupby('Year')['BasePay'].mean()\n",
    "average_basepay_per_year"
   ]
  },
  {
   "cell_type": "markdown",
   "id": "49ee0abc",
   "metadata": {},
   "source": [
    "12. How many unique job titles are there?"
   ]
  },
  {
   "cell_type": "code",
   "execution_count": 137,
   "id": "6793c2e5",
   "metadata": {},
   "outputs": [
    {
     "data": {
      "text/plain": [
       "2159"
      ]
     },
     "execution_count": 137,
     "metadata": {},
     "output_type": "execute_result"
    }
   ],
   "source": [
    "unique_job_titles_count = sal['JobTitle'].nunique()\n",
    "unique_job_titles_count"
   ]
  },
  {
   "cell_type": "markdown",
   "id": "7faaf638",
   "metadata": {},
   "source": [
    "13. What are the top 5 most common jobs?"
   ]
  },
  {
   "cell_type": "code",
   "execution_count": 138,
   "id": "16db45cd",
   "metadata": {},
   "outputs": [
    {
     "data": {
      "text/plain": [
       "Transit Operator                7036\n",
       "Special Nurse                   4389\n",
       "Registered Nurse                3736\n",
       "Public Svc Aide-Public Works    2518\n",
       "Police Officer 3                2421\n",
       "Name: JobTitle, dtype: int64"
      ]
     },
     "execution_count": 138,
     "metadata": {},
     "output_type": "execute_result"
    }
   ],
   "source": [
    "top_5_common_jobs = sal['JobTitle'].value_counts().head()\n",
    "top_5_common_jobs"
   ]
  },
  {
   "cell_type": "markdown",
   "id": "86af117c",
   "metadata": {},
   "source": [
    "14. How many Job Titles were represented by only one person in 2013? (e.g. Job Titles with only one occurence in 2013?)"
   ]
  },
  {
   "cell_type": "code",
   "execution_count": 40,
   "id": "286c91ba",
   "metadata": {},
   "outputs": [
    {
     "data": {
      "text/plain": [
       "202"
      ]
     },
     "execution_count": 40,
     "metadata": {},
     "output_type": "execute_result"
    }
   ],
   "source": [
    "sum(sal[sal['Year']==2013]['JobTitle'].value_counts() == 1)"
   ]
  },
  {
   "cell_type": "markdown",
   "id": "03daa434",
   "metadata": {},
   "source": [
    "15. How many people have the word Chief in their job title?"
   ]
  },
  {
   "cell_type": "code",
   "execution_count": 41,
   "id": "7fbd37d0",
   "metadata": {},
   "outputs": [
    {
     "data": {
      "text/plain": [
       "627"
      ]
     },
     "execution_count": 41,
     "metadata": {},
     "output_type": "execute_result"
    }
   ],
   "source": [
    "def chief_string(title):\n",
    "    if 'chief' in title.lower():\n",
    "        return True\n",
    "    else:\n",
    "        return False\n",
    "sum(sal['JobTitle'].apply(lambda x: chief_string(x)))"
   ]
  },
  {
   "cell_type": "markdown",
   "id": "92f78f4a",
   "metadata": {},
   "source": [
    "16. Is there a correlation between length of the Job Title string and Salary?"
   ]
  },
  {
   "cell_type": "code",
   "execution_count": 42,
   "id": "c9fbe37a",
   "metadata": {},
   "outputs": [
    {
     "data": {
      "text/plain": [
       "-0.03687844593260901"
      ]
     },
     "execution_count": 42,
     "metadata": {},
     "output_type": "execute_result"
    }
   ],
   "source": [
    "sal['TitleLength'] = sal['JobTitle'].apply(len)\n",
    "correlation = sal[['TitleLength', 'TotalPayBenefits']].corr().iloc[0, 1]\n",
    "correlation"
   ]
  }
 ],
 "metadata": {
  "kernelspec": {
   "display_name": "Python 3 (ipykernel)",
   "language": "python",
   "name": "python3"
  },
  "language_info": {
   "codemirror_mode": {
    "name": "ipython",
    "version": 3
   },
   "file_extension": ".py",
   "mimetype": "text/x-python",
   "name": "python",
   "nbconvert_exporter": "python",
   "pygments_lexer": "ipython3",
   "version": "3.9.13"
  }
 },
 "nbformat": 4,
 "nbformat_minor": 5
}
