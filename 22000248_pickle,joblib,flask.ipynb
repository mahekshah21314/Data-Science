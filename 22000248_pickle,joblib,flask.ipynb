{
 "cells": [
  {
   "cell_type": "code",
   "execution_count": 1,
   "id": "9fb00910",
   "metadata": {},
   "outputs": [
    {
     "data": {
      "text/plain": [
       "array([6.5])"
      ]
     },
     "execution_count": 1,
     "metadata": {},
     "output_type": "execute_result"
    }
   ],
   "source": [
    "import numpy as np\n",
    "x=np.arange(10).reshape(5,2)\n",
    "y=range(5)\n",
    "\n",
    "from sklearn.model_selection import train_test_split\n",
    "x_train , x_test , y_train , y_test=train_test_split(x,y)\n",
    "\n",
    "from sklearn.linear_model import LinearRegression\n",
    "model=LinearRegression()\n",
    "model.fit(x_train,y_train)\n",
    "\n",
    "model.predict([[13,14]])"
   ]
  },
  {
   "cell_type": "code",
   "execution_count": 2,
   "id": "f180b388",
   "metadata": {},
   "outputs": [
    {
     "name": "stdout",
     "output_type": "stream",
     "text": [
      "Input [[0 1]\n",
      " [2 3]\n",
      " [4 5]\n",
      " [6 7]\n",
      " [8 9]]\n"
     ]
    }
   ],
   "source": [
    "print(\"Input\" , x)"
   ]
  },
  {
   "cell_type": "code",
   "execution_count": 3,
   "id": "ad7d3299",
   "metadata": {},
   "outputs": [],
   "source": [
    "import pickle\n",
    "\n",
    "with open('LRmodel.pkl','wb') as f:\n",
    "    pickle.dump(model,f)"
   ]
  },
  {
   "cell_type": "code",
   "execution_count": 4,
   "id": "06a33a2a",
   "metadata": {},
   "outputs": [],
   "source": [
    "with open('LRmodel.pkl','rb') as f:\n",
    "    saved_model=pickle.load(f)"
   ]
  },
  {
   "cell_type": "code",
   "execution_count": 5,
   "id": "10dd2d55",
   "metadata": {},
   "outputs": [
    {
     "data": {
      "text/plain": [
       "LinearRegression()"
      ]
     },
     "execution_count": 5,
     "metadata": {},
     "output_type": "execute_result"
    }
   ],
   "source": [
    "saved_model"
   ]
  },
  {
   "cell_type": "code",
   "execution_count": 6,
   "id": "8b787719",
   "metadata": {},
   "outputs": [
    {
     "data": {
      "text/plain": [
       "array([50.])"
      ]
     },
     "execution_count": 6,
     "metadata": {},
     "output_type": "execute_result"
    }
   ],
   "source": [
    "saved_model.predict([[100,101]])"
   ]
  },
  {
   "cell_type": "markdown",
   "id": "5c7b8802",
   "metadata": {},
   "source": [
    "Joblib is used when there is more numerical data"
   ]
  },
  {
   "cell_type": "code",
   "execution_count": 7,
   "id": "d9ef45cd",
   "metadata": {},
   "outputs": [],
   "source": [
    "import joblib"
   ]
  },
  {
   "cell_type": "code",
   "execution_count": 8,
   "id": "494982ba",
   "metadata": {},
   "outputs": [],
   "source": [
    "f1='LR_model.sav'"
   ]
  },
  {
   "cell_type": "code",
   "execution_count": 9,
   "id": "300798a8",
   "metadata": {},
   "outputs": [
    {
     "data": {
      "text/plain": [
       "['LR_model.sav']"
      ]
     },
     "execution_count": 9,
     "metadata": {},
     "output_type": "execute_result"
    }
   ],
   "source": [
    "joblib.dump(model,f1)"
   ]
  },
  {
   "cell_type": "code",
   "execution_count": 10,
   "id": "519cade2",
   "metadata": {},
   "outputs": [],
   "source": [
    "joblib_model=joblib.load(f1)"
   ]
  },
  {
   "cell_type": "code",
   "execution_count": 11,
   "id": "32faf07f",
   "metadata": {},
   "outputs": [
    {
     "data": {
      "text/plain": [
       "array([5.])"
      ]
     },
     "execution_count": 11,
     "metadata": {},
     "output_type": "execute_result"
    }
   ],
   "source": [
    "joblib_model.predict([[10,11]])"
   ]
  },
  {
   "cell_type": "code",
   "execution_count": null,
   "id": "e7bd2128",
   "metadata": {},
   "outputs": [
    {
     "name": "stdout",
     "output_type": "stream",
     "text": [
      " * Serving Flask app \"__main__\" (lazy loading)\n",
      " * Environment: production\n",
      "\u001b[31m   WARNING: This is a development server. Do not use it in a production deployment.\u001b[0m\n",
      "\u001b[2m   Use a production WSGI server instead.\u001b[0m\n",
      " * Debug mode: off\n"
     ]
    },
    {
     "name": "stderr",
     "output_type": "stream",
     "text": [
      " * Running on all addresses.\n",
      "   WARNING: This is a development server. Do not use it in a production deployment.\n",
      " * Running on http://192.168.170.118:106/ (Press CTRL+C to quit)\n",
      "192.168.170.118 - - [01/May/2024 13:18:49] \"GET / HTTP/1.1\" 200 -\n"
     ]
    },
    {
     "name": "stdout",
     "output_type": "stream",
     "text": [
      "10  11\n"
     ]
    },
    {
     "name": "stderr",
     "output_type": "stream",
     "text": [
      "192.168.170.118 - - [01/May/2024 13:19:11] \"GET /input/10/11/ HTTP/1.1\" 200 -\n"
     ]
    },
    {
     "name": "stdout",
     "output_type": "stream",
     "text": [
      "Output is  [5.]\n"
     ]
    }
   ],
   "source": [
    "from flask import Flask, jsonify, request\n",
    "import pickle\n",
    "\n",
    "app = Flask(__name__)\n",
    "\n",
    "@app.route('/')\n",
    "def hello():\n",
    "    return \"Hello World\"\n",
    "\n",
    "@app.route('/input/<int:x1>/<int:x2>/')\n",
    "def check(x1, x2):\n",
    "    print(x1, \"\", x2)\n",
    "    fp = open('LRmodel.pkl', \"rb\")\n",
    "    saved_model = pickle.load(fp)\n",
    "\n",
    "    # Predict the Output Y where input is X1 & X2\n",
    "    predictedY = saved_model.predict([[x1, x2]])\n",
    "\n",
    "    print(\"Output is \", predictedY)\n",
    "    return \"Y: \" + str(predictedY[0])\n",
    "\n",
    "app.run(host='0.0.0.0' , port=106)"
   ]
  },
  {
   "cell_type": "code",
   "execution_count": null,
   "id": "1a5a80fe",
   "metadata": {},
   "outputs": [],
   "source": [
    "http://192.168.178.118:106/input/10/11/"
   ]
  }
 ],
 "metadata": {
  "kernelspec": {
   "display_name": "Python 3 (ipykernel)",
   "language": "python",
   "name": "python3"
  },
  "language_info": {
   "codemirror_mode": {
    "name": "ipython",
    "version": 3
   },
   "file_extension": ".py",
   "mimetype": "text/x-python",
   "name": "python",
   "nbconvert_exporter": "python",
   "pygments_lexer": "ipython3",
   "version": "3.9.13"
  }
 },
 "nbformat": 4,
 "nbformat_minor": 5
}
